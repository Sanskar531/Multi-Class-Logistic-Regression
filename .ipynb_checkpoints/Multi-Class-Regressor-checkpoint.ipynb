{
 "cells": [
  {
   "cell_type": "code",
   "execution_count": 1,
   "id": "28dfdd07",
   "metadata": {},
   "outputs": [],
   "source": [
    "import numpy as np\n",
    "import pandas as pd\n",
    "import scipy.io as sp\n",
    "from scipy.optimize import minimize;\n",
    "from sklearn import datasets;\n",
    "import matplotlib.pyplot as plt"
   ]
  },
  {
   "cell_type": "code",
   "execution_count": 2,
   "id": "bc021d0f",
   "metadata": {},
   "outputs": [],
   "source": [
    "data = datasets.load_breast_cancer()"
   ]
  },
  {
   "cell_type": "code",
   "execution_count": 3,
   "id": "cb85fd0d",
   "metadata": {},
   "outputs": [],
   "source": [
    "X = pd.DataFrame(data=data[\"data\"]);\n",
    "X['x0']=1;\n",
    "Y = pd.DataFrame(data=data[\"target\"]);"
   ]
  },
  {
   "cell_type": "code",
   "execution_count": 4,
   "id": "d8c70b5a",
   "metadata": {},
   "outputs": [],
   "source": [
    "class Logistic_Regressor:\n",
    "    def __init__(self, X, y):\n",
    "        self.X = X;\n",
    "        self.y = y;\n",
    "        self.theta = pd.DataFrame(np.zeros(X.shape[1]))\n",
    "        return None;\n",
    "    def sigmoid(self,arr):\n",
    "        return (1/(1+np.exp(-arr)));\n",
    "    def hypothesis(self):\n",
    "        return self.sigmoid(np.dot(self.X, self.theta));\n",
    "    def cost_function(self):\n",
    "        return -np.multiply(1/(X.shape[0]), (np.multiply(self.y,np.log(self.hypothesis())) + np.multiply(1-self.y, np.log(1-self.hypothesis()))).sum())\n",
    "    def gradient(self):\n",
    "        return (1/self.X.shape[0] * (np.dot(self.X.T, self.hypothesis()-self.y)));\n",
    "    def regularized_cost_function(self):\n",
    "        return  np.add(-np.multiply(1/(self.X.shape[0]), ( np.multiply(1-self.y, np.log(1-self.hypothesis()))).sum()) , self.theta.iloc[0,0]+(100/(2*self.X.shape[0])) * (self.theta.iloc[1:,:]**2).sum());\n",
    "    def regularized_gradient(self):\n",
    "        regularized_part = (150/self.X.shape[0] * self.theta[1:]);\n",
    "        regularized_part = pd.concat([pd.DataFrame([self.theta.iloc[0,0]]), regularized_part])\n",
    "        return (1/self.X.shape[0] * (np.dot(self.X.T, self.hypothesis()-self.y))) + regularized_part;\n",
    "    def optimize(self):\n",
    "        i=0;\n",
    "        while i < 1000:\n",
    "            self.theta = self.theta - 0.1/self.X.shape[0] * self.regularized_gradient();\n",
    "            i+=1;\n",
    "    def predict(self, X):\n",
    "        return self.sigmoid(np.dot(X, self.theta));"
   ]
  },
  {
   "cell_type": "code",
   "execution_count": 5,
   "id": "e6c16c4f",
   "metadata": {},
   "outputs": [],
   "source": [
    "class MultiClassRegressor:\n",
    "    def __init__(self, X, y):\n",
    "        self.X = X;\n",
    "        self.y = y;\n",
    "        classes = self.y.iloc[:,0].unique();\n",
    "        i=1;\n",
    "        self.regressors = [];\n",
    "        for i in range(0, len(classes)):\n",
    "            self.regressors.append(Logistic_Regressor(X=self.X, y = self.y==i));\n",
    "        for i in range(0, len(self.regressors)):\n",
    "            self.regressors[i].optimize();\n",
    "    def predict(self, X):\n",
    "        probs = [self.regressors[i].predict(X) for i in range(len(self.regressors))]\n",
    "        target_class = max(probs);\n",
    "        return probs.index(target_class);"
   ]
  },
  {
   "cell_type": "code",
   "execution_count": 6,
   "id": "d73a1bb5",
   "metadata": {},
   "outputs": [],
   "source": [
    "multiModel = MultiClassRegressor(X=X, y = Y);\n",
    "multiModel.predict(X.iloc[0,:]);"
   ]
  },
  {
   "cell_type": "code",
   "execution_count": 7,
   "id": "5eb92b36",
   "metadata": {},
   "outputs": [],
   "source": [
    "results = [multiModel.predict(X.iloc[i,:]) for i in range(0,X.shape[0])];"
   ]
  },
  {
   "cell_type": "code",
   "execution_count": 8,
   "id": "c70a8503",
   "metadata": {},
   "outputs": [],
   "source": [
    "predictions = pd.DataFrame(results)"
   ]
  },
  {
   "cell_type": "code",
   "execution_count": 9,
   "id": "1680561a",
   "metadata": {},
   "outputs": [
    {
     "data": {
      "text/plain": [
       "True     522\n",
       "False     47\n",
       "dtype: int64"
      ]
     },
     "execution_count": 9,
     "metadata": {},
     "output_type": "execute_result"
    }
   ],
   "source": [
    "multi_accuracy = ((predictions == Y).value_counts());\n",
    "\n",
    "multi_accuracy"
   ]
  },
  {
   "cell_type": "code",
   "execution_count": 10,
   "id": "e7b89b59",
   "metadata": {},
   "outputs": [
    {
     "name": "stdout",
     "output_type": "stream",
     "text": [
      "0.9173989455184535\n"
     ]
    }
   ],
   "source": [
    "print(multi_accuracy[True]/(multi_accuracy[True]+multi_accuracy[False]));"
   ]
  },
  {
   "cell_type": "code",
   "execution_count": 11,
   "id": "83f5812d",
   "metadata": {},
   "outputs": [],
   "source": [
    "model = Logistic_Regressor(X=X, y = Y);\n",
    "model.optimize()"
   ]
  },
  {
   "cell_type": "code",
   "execution_count": 12,
   "id": "dfeccb66",
   "metadata": {},
   "outputs": [
    {
     "data": {
      "text/plain": [
       "True     522\n",
       "False     47\n",
       "dtype: int64"
      ]
     },
     "execution_count": 12,
     "metadata": {},
     "output_type": "execute_result"
    }
   ],
   "source": [
    "((model.predict(X)>0.5)==Y).value_counts()"
   ]
  }
 ],
 "metadata": {
  "kernelspec": {
   "display_name": "Python 3 (ipykernel)",
   "language": "python",
   "name": "python3"
  },
  "language_info": {
   "codemirror_mode": {
    "name": "ipython",
    "version": 3
   },
   "file_extension": ".py",
   "mimetype": "text/x-python",
   "name": "python",
   "nbconvert_exporter": "python",
   "pygments_lexer": "ipython3",
   "version": "3.9.7"
  }
 },
 "nbformat": 4,
 "nbformat_minor": 5
}
